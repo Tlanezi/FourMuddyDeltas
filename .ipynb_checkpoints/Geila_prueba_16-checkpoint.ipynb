{
 "cells": [
  {
   "cell_type": "code",
   "execution_count": null,
   "metadata": {},
   "outputs": [
    {
     "data": {
      "text/html": [
       "<p>To authorize access needed by Earth Engine, open the following\n",
       "        URL in a web browser and follow the instructions:</p>\n",
       "        <p><a href=https://code.earthengine.google.com/client-auth?scopes=https%3A//www.googleapis.com/auth/earthengine%20https%3A//www.googleapis.com/auth/devstorage.full_control&request_id=kxBz65KN1CVindeu0t02UoAR5fgUDOS2ygSnr2NMD90&tc=ue0Mjre1gFP6GWozcD25yLkbgdjExhiumuSc9J3ypyk&cc=qcN2tboIQTWGgy4Xl07CqgduiO9AKfZw5LugnQgtNIg>https://code.earthengine.google.com/client-auth?scopes=https%3A//www.googleapis.com/auth/earthengine%20https%3A//www.googleapis.com/auth/devstorage.full_control&request_id=kxBz65KN1CVindeu0t02UoAR5fgUDOS2ygSnr2NMD90&tc=ue0Mjre1gFP6GWozcD25yLkbgdjExhiumuSc9J3ypyk&cc=qcN2tboIQTWGgy4Xl07CqgduiO9AKfZw5LugnQgtNIg</a></p>\n",
       "        <p>The authorization workflow will generate a code, which you\n",
       "        should paste in the box below</p>\n",
       "        "
      ],
      "text/plain": [
       "<IPython.core.display.HTML object>"
      ]
     },
     "metadata": {},
     "output_type": "display_data"
    }
   ],
   "source": [
    "## Import and authenticate\n",
    "import ee\n",
    "ee.Authenticate()\n",
    "ee.Initialize()"
   ]
  },
  {
   "cell_type": "code",
   "execution_count": 7,
   "metadata": {},
   "outputs": [],
   "source": [
    "import pandas as pd\n",
    "import matplotlib.pyplot as plt\n",
    "import geemap"
   ]
  },
  {
   "cell_type": "code",
   "execution_count": 8,
   "metadata": {},
   "outputs": [
    {
     "name": "stdout",
     "output_type": "stream",
     "text": [
      "   year      NDVI\n",
      "0  2015       NaN\n",
      "1  2016       NaN\n",
      "2  2017  0.879192\n",
      "3  2018  0.836461\n",
      "4  2019  0.675790\n",
      "5  2020  0.679648\n",
      "6  2021  0.699209\n",
      "   year       EVI\n",
      "0  2015       NaN\n",
      "1  2016       NaN\n",
      "2  2017  2.201801\n",
      "3  2018  1.870333\n",
      "4  2019  1.655120\n",
      "5  2020  2.376941\n",
      "6  2021  2.009356\n"
     ]
    }
   ],
   "source": [
    "l8 = ee.ImageCollection(\"LANDSAT/LC08/C01/T1_SR\")\n",
    "geometry = ee.Geometry.Polygon([[[-51.59926298236183,-0.3129106811885803],\n",
    "                                 [-50.77528837298683,-0.3129106811885803],\n",
    "                                 [-50.77528837298683,0.4835908106175574],\n",
    "                                 [-51.59926298236183,0.4835908106175574],\n",
    "                                 [-51.59926298236183,-0.3129106811885803]]])\n",
    "\n",
    "#Filtering date, polygon, and cloudiness\n",
    "images = (l8.filterDate('2015-09-01', '2022-01-01')\n",
    "          .filterBounds(geometry)\n",
    "          .filter('CLOUD_COVER < 10'))\n",
    "\n",
    "#NDVI calculation:\n",
    "def ndvi_func(i):\n",
    "    ndvi = i.normalizedDifference (['B5', 'B4']).rename('NDVI')\n",
    "    return i.addBands(ndvi)\n",
    "\n",
    "images_ndvi = images.map(ndvi_func)\n",
    "\n",
    "#EVI calculation:\n",
    "def evi_func(i):\n",
    "    EVI = i.expression('2.5 * ((NIR - RED) / (NIR + 6 * RED - 7.5 * BLUE + 1))', {\n",
    "        'NIR' : i.select('B5'),\n",
    "        'RED' : i.select('B4'),\n",
    "        'BLUE': i.select('B2')}).rename('EVI')\n",
    "    \n",
    "    return i.addBands(EVI)\n",
    "    \n",
    "images_evi = images.map(evi_func)\n",
    "\n",
    "#Calculating year wise NDVI.  Result is a list of dictionaries.\n",
    "years = ee.List.sequence(2015,2021)\n",
    "def year_func_NDVI(y):\n",
    "    range = ee.Filter.calendarRange (y, y, 'year')\n",
    "    mean_ndvi = (images_ndvi\n",
    "            .filter(range)\n",
    "            .select('NDVI')\n",
    "            .median()\n",
    "            .reduceRegion(ee.Reducer.median(), geometry, 30))\n",
    "    \n",
    "    return mean_ndvi.set('year', y)\n",
    "    \n",
    "def year_func_EVI (z):\n",
    "    range = ee.Filter.calendarRange (z, z, 'year')\n",
    "    mean_evi = (images_evi\n",
    "               .filter(range)\n",
    "               .select('EVI')\n",
    "               .median()\n",
    "               .reduceRegion(ee.Reducer.median(),geometry,30))\n",
    "    \n",
    " \n",
    "    return mean_evi.set('year',z)\n",
    "    \n",
    "yearwise_NDVI = years.map(year_func_NDVI).getInfo()\n",
    "yearwise_EVI = years.map(year_func_EVI).getInfo()\n",
    "df_NDVI = pd.DataFrame(yearwise_NDVI)\n",
    "df_EVI = pd.DataFrame(yearwise_EVI)\n",
    "print(df_NDVI)\n",
    "print(df_EVI)"
   ]
  },
  {
   "cell_type": "code",
   "execution_count": 9,
   "metadata": {},
   "outputs": [
    {
     "data": {
      "image/png": "[encoded data removed]",
      "text/plain": [
       "<Figure size 432x288 with 1 Axes>"
      ]
     },
     "metadata": {
      "needs_background": "light"
     },
     "output_type": "display_data"
    }
   ],
   "source": [
    "# Plot graphs\n",
    "\n",
    "plt.plot(df_NDVI.year,df_NDVI.NDVI)\n",
    "plt.plot(df_EVI.year,df_EVI.EVI)\n",
    "plt.title('title')\n",
    "plt.ylabel('')\n",
    "plt.xlabel('Time [yrs]')\n",
    "plt.show()"
   ]
  },
  {
   "cell_type": "code",
   "execution_count": 10,
   "metadata": {},
   "outputs": [
    {
     "data": {
      "application/vnd.jupyter.widget-view+json": {
       "model_id": "1db83accbd854e81846534ef7103f5ab",
       "version_major": 2,
       "version_minor": 0
      },
      "text/plain": [
       "Map(center=[0.08534089636841959, -51.187275677674215], controls=(WidgetControl(options=['position', 'transpare…"
      ]
     },
     "metadata": {},
     "output_type": "display_data"
    }
   ],
   "source": [
    "## Add map\n",
    "Map = geemap.Map()\n",
    "\n",
    "vis_params = {\n",
    "    'min': 0,\n",
    "    'max': 1,\n",
    "    'palette': ['red', 'yellow','green'],\n",
    "}\n",
    "\n",
    "first_image = images_ndvi.select('NDVI').first()\n",
    "\n",
    "Map.addLayer(first_image, vis_params, \"First image\")\n",
    "Map.centerObject(geometry,8)\n",
    "\n",
    "Map"
   ]
  },
  {
   "cell_type": "code",
   "execution_count": 11,
   "metadata": {},
   "outputs": [
    {
     "data": {
      "application/vnd.jupyter.widget-view+json": {
       "model_id": "8fc3b1b9d5064abfae2d2d83edc8eb86",
       "version_major": 2,
       "version_minor": 0
      },
      "text/plain": [
       "Map(center=[0.08534089636841959, -51.187275677674215], controls=(WidgetControl(options=['position', 'transpare…"
      ]
     },
     "metadata": {},
     "output_type": "display_data"
    }
   ],
   "source": [
    "### Different yearly maps\n",
    "\n",
    "## 2017 NDVI\n",
    "ndvi_2017 = images_ndvi.filterDate('2017-01-01', '2018-01-01').select('NDVI').median()\n",
    "\n",
    "## 2018 NDVI\n",
    "ndvi_2018 = images_ndvi.filterDate('2018-01-01', '2019-01-01').select('NDVI').median()\n",
    "\n",
    "## 2019 NDVI\n",
    "ndvi_2019 = images_ndvi.filterDate('2019-01-01', '2020-01-01').select('NDVI').median()\n",
    "\n",
    "## 2020 NDVI\n",
    "ndvi_2020 = images_ndvi.filterDate('2020-01-01', '2021-01-01').select('NDVI').median()\n",
    "\n",
    "## 2021 NDVI\n",
    "ndvi_2021 = images_ndvi.filterDate('2021-01-01', '2022-01-01').select('NDVI').median()\n",
    "\n",
    "Map = geemap.Map()\n",
    "\n",
    "vis_params = {\n",
    "    'min': 0,\n",
    "    'max': 1,\n",
    "    'palette': ['red', 'yellow','green'],\n",
    "}                       \n",
    "    \n",
    "\n",
    "Map.addLayer(ndvi_2017, vis_params, \"2017 NDVI\")\n",
    "Map.addLayer(ndvi_2018, vis_params, \"2018 NDVI\")\n",
    "Map.addLayer(ndvi_2019, vis_params, \"2019 NDVI\")\n",
    "Map.addLayer(ndvi_2020, vis_params, \"2020 NDVI\")\n",
    "Map.addLayer(ndvi_2021, vis_params, \"2021 NDVI\")\n",
    "Map.centerObject(geometry,8)\n",
    "\n",
    "Map\n",
    "\n"
   ]
  },
  {
   "cell_type": "code",
   "execution_count": 12,
   "metadata": {},
   "outputs": [
    {
     "data": {
      "application/vnd.jupyter.widget-view+json": {
       "model_id": "1756de0c4cb64da9800f438711737985",
       "version_major": 2,
       "version_minor": 0
      },
      "text/plain": [
       "Map(center=[20, 0], controls=(WidgetControl(options=['position', 'transparent_bg'], widget=HBox(children=(Togg…"
      ]
     },
     "metadata": {},
     "output_type": "display_data"
    }
   ],
   "source": [
    "Map = geemap.Map()\n",
    "dataset = ee.ImageCollection(\"ESA/WorldCover/v100\").first()\n",
    "Map.addLayer(dataset, {'bands': ['Map']}, 'ESA Land Cover')\n",
    "Map.add_legend(builtin_legend='ESA_WorldCover')\n",
    "Map"
   ]
  },
  {
   "cell_type": "code",
   "execution_count": 13,
   "metadata": {},
   "outputs": [
    {
     "name": "stdout",
     "output_type": "stream",
     "text": [
      "Calculating area for group 10 ...\n",
      "Calculating area for group 100 ...\n",
      "Calculating area for group 20 ...\n",
      "Calculating area for group 30 ...\n",
      "Calculating area for group 40 ...\n",
      "Calculating area for group 50 ...\n",
      "Calculating area for group 60 ...\n",
      "Calculating area for group 70 ...\n",
      "Calculating area for group 80 ...\n",
      "Calculating area for group 90 ...\n",
      "Calculating area for group 95 ...\n"
     ]
    },
    {
     "data": {
      "text/html": [
       "<div>\n",
       "<style scoped>\n",
       "    .dataframe tbody tr th:only-of-type {\n",
       "        vertical-align: middle;\n",
       "    }\n",
       "\n",
       "    .dataframe tbody tr th {\n",
       "        vertical-align: top;\n",
       "    }\n",
       "\n",
       "    .dataframe thead th {\n",
       "        text-align: right;\n",
       "    }\n",
       "</style>\n",
       "<table border=\"1\" class=\"dataframe\">\n",
       "  <thead>\n",
       "    <tr style=\"text-align: right;\">\n",
       "      <th></th>\n",
       "      <th>area</th>\n",
       "      <th>percentage</th>\n",
       "    </tr>\n",
       "    <tr>\n",
       "      <th>group</th>\n",
       "      <th></th>\n",
       "      <th></th>\n",
       "    </tr>\n",
       "  </thead>\n",
       "  <tbody>\n",
       "    <tr>\n",
       "      <th>10</th>\n",
       "      <td>4.420003e+07</td>\n",
       "      <td>0.2901</td>\n",
       "    </tr>\n",
       "    <tr>\n",
       "      <th>100</th>\n",
       "      <td>2.964988e+06</td>\n",
       "      <td>0.0195</td>\n",
       "    </tr>\n",
       "    <tr>\n",
       "      <th>20</th>\n",
       "      <td>1.078775e+07</td>\n",
       "      <td>0.0708</td>\n",
       "    </tr>\n",
       "    <tr>\n",
       "      <th>30</th>\n",
       "      <td>3.200165e+07</td>\n",
       "      <td>0.2100</td>\n",
       "    </tr>\n",
       "    <tr>\n",
       "      <th>40</th>\n",
       "      <td>1.317507e+07</td>\n",
       "      <td>0.0865</td>\n",
       "    </tr>\n",
       "    <tr>\n",
       "      <th>50</th>\n",
       "      <td>6.837829e+05</td>\n",
       "      <td>0.0045</td>\n",
       "    </tr>\n",
       "    <tr>\n",
       "      <th>60</th>\n",
       "      <td>2.288831e+07</td>\n",
       "      <td>0.1502</td>\n",
       "    </tr>\n",
       "    <tr>\n",
       "      <th>70</th>\n",
       "      <td>2.395389e+06</td>\n",
       "      <td>0.0157</td>\n",
       "    </tr>\n",
       "    <tr>\n",
       "      <th>80</th>\n",
       "      <td>2.103490e+07</td>\n",
       "      <td>0.1381</td>\n",
       "    </tr>\n",
       "    <tr>\n",
       "      <th>90</th>\n",
       "      <td>2.044810e+06</td>\n",
       "      <td>0.0134</td>\n",
       "    </tr>\n",
       "    <tr>\n",
       "      <th>95</th>\n",
       "      <td>1.880085e+05</td>\n",
       "      <td>0.0012</td>\n",
       "    </tr>\n",
       "  </tbody>\n",
       "</table>\n",
       "</div>"
      ],
      "text/plain": [
       "               area  percentage\n",
       "group                          \n",
       "10     4.420003e+07      0.2901\n",
       "100    2.964988e+06      0.0195\n",
       "20     1.078775e+07      0.0708\n",
       "30     3.200165e+07      0.2100\n",
       "40     1.317507e+07      0.0865\n",
       "50     6.837829e+05      0.0045\n",
       "60     2.288831e+07      0.1502\n",
       "70     2.395389e+06      0.0157\n",
       "80     2.103490e+07      0.1381\n",
       "90     2.044810e+06      0.0134\n",
       "95     1.880085e+05      0.0012"
      ]
     },
     "execution_count": 13,
     "metadata": {},
     "output_type": "execute_result"
    }
   ],
   "source": [
    "df = geemap.image_area_by_group(\n",
    "    dataset, scale=1000, denominator=1e6, decimal_places=4, verbose=True\n",
    ")\n",
    "df"
   ]
  }
 ],
 "metadata": {
  "kernelspec": {
   "display_name": "Python 3 (ipykernel)",
   "language": "python",
   "name": "python3"
  },
  "language_info": {
   "codemirror_mode": {
    "name": "ipython",
    "version": 3
   },
   "file_extension": ".py",
   "mimetype": "text/x-python",
   "name": "python",
   "nbconvert_exporter": "python",
   "pygments_lexer": "ipython3",
   "version": "3.9.5"
  }
 },
 "nbformat": 4,
 "nbformat_minor": 4
}
