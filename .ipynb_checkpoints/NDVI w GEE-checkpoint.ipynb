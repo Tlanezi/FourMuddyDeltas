{
 "cells": [
  {
   "cell_type": "code",
   "execution_count": 3,
   "metadata": {},
   "outputs": [
    {
     "data": {
      "text/html": [
       "<p>To authorize access needed by Earth Engine, open the following\n",
       "        URL in a web browser and follow the instructions:</p>\n",
       "        <p><a href=https://accounts.google.com/o/oauth2/auth?client_id=517222506229-vsmmajv00ul0bs7p89v5m89qs8eb9359.apps.googleusercontent.com&scope=https%3A%2F%2Fwww.googleapis.com%2Fauth%2Fearthengine+https%3A%2F%2Fwww.googleapis.com%2Fauth%2Fdevstorage.full_control&redirect_uri=urn%3Aietf%3Awg%3Aoauth%3A2.0%3Aoob&response_type=code&code_challenge=9omaj2WaWKDYMa8iu-nmdWVr1AcakhJgL8_0Edy2RV4&code_challenge_method=S256>https://accounts.google.com/o/oauth2/auth?client_id=517222506229-vsmmajv00ul0bs7p89v5m89qs8eb9359.apps.googleusercontent.com&scope=https%3A%2F%2Fwww.googleapis.com%2Fauth%2Fearthengine+https%3A%2F%2Fwww.googleapis.com%2Fauth%2Fdevstorage.full_control&redirect_uri=urn%3Aietf%3Awg%3Aoauth%3A2.0%3Aoob&response_type=code&code_challenge=9omaj2WaWKDYMa8iu-nmdWVr1AcakhJgL8_0Edy2RV4&code_challenge_method=S256</a></p>\n",
       "        <p>The authorization workflow will generate a code, which you\n",
       "        should paste in the box below</p>\n",
       "        "
      ],
      "text/plain": [
       "<IPython.core.display.HTML object>"
      ]
     },
     "metadata": {},
     "output_type": "display_data"
    },
    {
     "name": "stdout",
     "output_type": "stream",
     "text": [
      "Enter verification code: 4/1AX4XfWhOI6ZpYksoOcmr0vqAl_T2PX0xSbR4rx9SpBkxg31dnd8KGniu8EU\n",
      "\n",
      "Successfully saved authorization token.\n"
     ]
    }
   ],
   "source": [
    "## Import and authenticate\n",
    "import ee\n",
    "ee.Authenticate()\n",
    "ee.Initialize()"
   ]
  },
  {
   "cell_type": "code",
   "execution_count": 4,
   "metadata": {},
   "outputs": [],
   "source": [
    "import pandas as pd"
   ]
  },
  {
   "cell_type": "code",
   "execution_count": 7,
   "metadata": {},
   "outputs": [
    {
     "name": "stdout",
     "output_type": "stream",
     "text": [
      "   year      NDVI\n",
      "0  2013       NaN\n",
      "1  2014  0.381649\n",
      "2  2015       NaN\n",
      "3  2016  0.327974\n",
      "4  2017  0.366617\n",
      "5  2018  0.404349\n",
      "6  2019  0.449728\n",
      "7  2020       NaN\n",
      "8  2021  0.430439\n"
     ]
    }
   ],
   "source": [
    "l8 = ee.ImageCollection(\"LANDSAT/LC08/C01/T1_SR\")\n",
    "geometry = ee.Geometry.Polygon([[[-80.92489760146748, 25.433457120928352],\n",
    "                                 [-80.64474623427998, 25.488013471687964],\n",
    "                                 [-80.57882826552998, 25.710940372707608],\n",
    "                                 [-81.02377455459248, 25.770317250349557],\n",
    "                                 [-80.95236342177998, 25.552457242621447]]])\n",
    "\n",
    "#Filtering date, polygon, and cloudiness\n",
    "images = (l8.filterDate('2013-09-01', '2021-12-31')\n",
    "          .filterBounds(geometry)\n",
    "          .filter('CLOUD_COVER < 5'))\n",
    "\n",
    "#NDVI calculation:\n",
    "def ndvi_func(i):\n",
    "    ndvi = i.normalizedDifference (['B5', 'B4']).rename('NDVI')\n",
    "    return i.addBands(ndvi)\n",
    "\n",
    "images_ndvi = images.map(ndvi_func)\n",
    "\n",
    "#Calculating year wise NDVI.  Result is a list of dictionaries.\n",
    "years = ee.List.sequence(2013,2021)\n",
    "def year_func(y):\n",
    "    range = ee.Filter.calendarRange (y, y, 'year')\n",
    "    mean = (images_ndvi\n",
    "            .filter(range)\n",
    "            .select('NDVI')\n",
    "            .median()\n",
    "            .reduceRegion(ee.Reducer.mean(), geometry, 30))\n",
    "    return mean.set('year', y)\n",
    "\n",
    "yearwise_ndvi = years.map(year_func).getInfo()\n",
    "df = pd.DataFrame(yearwise_ndvi)\n",
    "print(df)"
   ]
  }
 ],
 "metadata": {
  "kernelspec": {
   "display_name": "Python 3",
   "language": "python",
   "name": "python3"
  },
  "language_info": {
   "codemirror_mode": {
    "name": "ipython",
    "version": 3
   },
   "file_extension": ".py",
   "mimetype": "text/x-python",
   "name": "python",
   "nbconvert_exporter": "python",
   "pygments_lexer": "ipython3",
   "version": "3.8.3"
  }
 },
 "nbformat": 4,
 "nbformat_minor": 4
}
