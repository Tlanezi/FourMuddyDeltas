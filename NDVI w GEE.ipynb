{
 "cells": [
  {
   "cell_type": "code",
   "execution_count": 3,
   "metadata": {},
   "outputs": [
    {
     "data": {
      "text/html": [
       "<p>To authorize access needed by Earth Engine, open the following\n",
       "        URL in a web browser and follow the instructions:</p>\n",
       "        <p><a href=https://code.earthengine.google.com/client-auth?scopes=https%3A//www.googleapis.com/auth/earthengine%20https%3A//www.googleapis.com/auth/devstorage.full_control&request_id=DHTEG3OPnL4_u7bHMPCBW5tzfB4rKpOggEKbz8xfW7w&tc=vQTHrBBLL1IO0M5YLhrUcJmQzUUsick38-FSXFhy-h8&cc=ude1n3XgarNFL8TTgklHktMDBHx7M72TXx3mr_y37_E>https://code.earthengine.google.com/client-auth?scopes=https%3A//www.googleapis.com/auth/earthengine%20https%3A//www.googleapis.com/auth/devstorage.full_control&request_id=DHTEG3OPnL4_u7bHMPCBW5tzfB4rKpOggEKbz8xfW7w&tc=vQTHrBBLL1IO0M5YLhrUcJmQzUUsick38-FSXFhy-h8&cc=ude1n3XgarNFL8TTgklHktMDBHx7M72TXx3mr_y37_E</a></p>\n",
       "        <p>The authorization workflow will generate a code, which you\n",
       "        should paste in the box below</p>\n",
       "        "
      ],
      "text/plain": [
       "<IPython.core.display.HTML object>"
      ]
     },
     "metadata": {},
     "output_type": "display_data"
    },
    {
     "name": "stdout",
     "output_type": "stream",
     "text": [
      "Enter verification code: 4/1AX4XfWiODicGFYqbACrKBdbYlvNnjQV9RF-ovXgmpaAJEDEx9yP9zIGBpX8\n",
      "\n",
      "Successfully saved authorization token.\n"
     ]
    }
   ],
   "source": [
    "## Import and authenticate\n",
    "import ee\n",
    "ee.Authenticate()\n",
    "ee.Initialize()"
   ]
  },
  {
   "cell_type": "code",
   "execution_count": 22,
   "metadata": {},
   "outputs": [],
   "source": [
    "import pandas as pd\n",
    "import matplotlib.pyplot as plt"
   ]
  },
  {
   "cell_type": "code",
   "execution_count": 37,
   "metadata": {},
   "outputs": [
    {
     "name": "stdout",
     "output_type": "stream",
     "text": [
      "       NDVI  year\n",
      "0  0.317925  2015\n",
      "1  0.345699  2016\n",
      "2  0.366055  2017\n",
      "3  0.403819  2018\n",
      "4  0.382398  2019\n",
      "5  0.492509  2020\n",
      "6  0.406197  2021\n",
      "        EVI  year\n",
      "0  0.820440  2015\n",
      "1  0.727883  2016\n",
      "2  0.778460  2017\n",
      "3  0.922316  2018\n",
      "4  1.171864  2019\n",
      "5  1.131055  2020\n",
      "6  0.848190  2021\n"
     ]
    }
   ],
   "source": [
    "l8 = ee.ImageCollection(\"LANDSAT/LC08/C01/T1_SR\")\n",
    "geometry = ee.Geometry.Polygon([[[-80.92489760146748, 25.433457120928352],\n",
    "                                 [-80.64474623427998, 25.488013471687964],\n",
    "                                 [-80.57882826552998, 25.710940372707608],\n",
    "                                 [-81.02377455459248, 25.770317250349557],\n",
    "                                 [-80.95236342177998, 25.552457242621447]]])\n",
    "\n",
    "#Filtering date, polygon, and cloudiness\n",
    "images = (l8.filterDate('2015-09-01', '2021-12-31')\n",
    "          .filterBounds(geometry)\n",
    "          .filter('CLOUD_COVER < 10'))\n",
    "\n",
    "#NDVI calculation:\n",
    "def ndvi_func(i):\n",
    "    ndvi = i.normalizedDifference (['B5', 'B4']).rename('NDVI')\n",
    "    return i.addBands(ndvi)\n",
    "\n",
    "images_ndvi = images.map(ndvi_func)\n",
    "\n",
    "#EVI calculation:\n",
    "def evi_func(i):\n",
    "    EVI = i.expression('2.5 * ((NIR - RED) / (NIR + 6 * RED - 7.5 * BLUE + 1))', {\n",
    "        'NIR' : i.select('B5'),\n",
    "        'RED' : i.select('B4'),\n",
    "        'BLUE': i.select('B2')}).rename('EVI')\n",
    "    \n",
    "    return i.addBands(EVI)\n",
    "    \n",
    "images_evi = images.map(evi_func)\n",
    "\n",
    "#Calculating year wise NDVI.  Result is a list of dictionaries.\n",
    "years = ee.List.sequence(2015,2021)\n",
    "def year_func_NDVI(y):\n",
    "    range = ee.Filter.calendarRange (y, y, 'year')\n",
    "    mean_ndvi = (images_ndvi\n",
    "            .filter(range)\n",
    "            .select('NDVI')\n",
    "            .median()\n",
    "            .reduceRegion(ee.Reducer.mean(), geometry, 30))\n",
    "    \n",
    "    return mean_ndvi.set('year', y)\n",
    "    \n",
    "def year_func_EVI (z):\n",
    "    range = ee.Filter.calendarRange (z, z, 'year')\n",
    "    mean_evi = (images_evi\n",
    "               .filter(range)\n",
    "               .select('EVI')\n",
    "               .median()\n",
    "               .reduceRegion(ee.Reducer.mean(),geometry,30))\n",
    "    \n",
    " \n",
    "    return mean_evi.set('year',z)\n",
    "    \n",
    "yearwise_NDVI = years.map(year_func_NDVI).getInfo()\n",
    "yearwise_EVI = years.map(year_func_EVI).getInfo()\n",
    "df_NDVI = pd.DataFrame(yearwise_NDVI)\n",
    "df_EVI = pd.DataFrame(yearwise_EVI)\n",
    "print(df_NDVI)\n",
    "print(df_EVI)"
   ]
  },
  {
   "cell_type": "code",
   "execution_count": 40,
   "metadata": {},
   "outputs": [
    {
     "data": {
      "image/png": "[encoded data removed]",
      "text/plain": [
       "<Figure size 432x288 with 1 Axes>"
      ]
     },
     "metadata": {
      "needs_background": "light"
     },
     "output_type": "display_data"
    }
   ],
   "source": [
    "# Plot graphs\n",
    "\n",
    "plt.plot(df_NDVI.year,df_NDVI.NDVI)\n",
    "plt.plot(df_EVI.year,df_EVI.EVI)\n",
    "plt.title('title')\n",
    "plt.ylabel('')\n",
    "plt.xlabel('Time [yrs]')\n",
    "plt.show()"
   ]
  },
  {
   "cell_type": "code",
   "execution_count": null,
   "metadata": {},
   "outputs": [],
   "source": []
  }
 ],
 "metadata": {
  "kernelspec": {
   "display_name": "Python 3 (ipykernel)",
   "language": "python",
   "name": "python3"
  },
  "language_info": {
   "codemirror_mode": {
    "name": "ipython",
    "version": 3
   },
   "file_extension": ".py",
   "mimetype": "text/x-python",
   "name": "python",
   "nbconvert_exporter": "python",
   "pygments_lexer": "ipython3",
   "version": "3.9.12"
  }
 },
 "nbformat": 4,
 "nbformat_minor": 4
}
