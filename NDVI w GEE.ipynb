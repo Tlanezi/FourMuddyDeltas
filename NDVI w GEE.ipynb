{
 "cells": [
  {
   "cell_type": "code",
   "execution_count": 1,
   "metadata": {},
   "outputs": [
    {
     "data": {
      "text/html": [
       "<p>To authorize access needed by Earth Engine, open the following\n",
       "        URL in a web browser and follow the instructions:</p>\n",
       "        <p><a href=https://accounts.google.com/o/oauth2/auth?client_id=517222506229-vsmmajv00ul0bs7p89v5m89qs8eb9359.apps.googleusercontent.com&scope=https%3A%2F%2Fwww.googleapis.com%2Fauth%2Fearthengine+https%3A%2F%2Fwww.googleapis.com%2Fauth%2Fdevstorage.full_control&redirect_uri=urn%3Aietf%3Awg%3Aoauth%3A2.0%3Aoob&response_type=code&code_challenge=jcSkfV4ArNon2n1IWvLBmrbxUyUvU_vhGxPhV8kx-l4&code_challenge_method=S256>https://accounts.google.com/o/oauth2/auth?client_id=517222506229-vsmmajv00ul0bs7p89v5m89qs8eb9359.apps.googleusercontent.com&scope=https%3A%2F%2Fwww.googleapis.com%2Fauth%2Fearthengine+https%3A%2F%2Fwww.googleapis.com%2Fauth%2Fdevstorage.full_control&redirect_uri=urn%3Aietf%3Awg%3Aoauth%3A2.0%3Aoob&response_type=code&code_challenge=jcSkfV4ArNon2n1IWvLBmrbxUyUvU_vhGxPhV8kx-l4&code_challenge_method=S256</a></p>\n",
       "        <p>The authorization workflow will generate a code, which you\n",
       "        should paste in the box below</p>\n",
       "        "
      ],
      "text/plain": [
       "<IPython.core.display.HTML object>"
      ]
     },
     "metadata": {},
     "output_type": "display_data"
    },
    {
     "name": "stdout",
     "output_type": "stream",
     "text": [
      "Enter verification code: 4/1AX4XfWhIUzQ3Ipd3xVtvwKBaZ_7Jmkrhzo-yI-2vg5uMSPlNjI8l2q1PA1E\n",
      "\n",
      "Successfully saved authorization token.\n"
     ]
    }
   ],
   "source": [
    "## Import and authenticate\n",
    "import ee\n",
    "ee.Authenticate()\n",
    "ee.Initialize()"
   ]
  },
  {
   "cell_type": "code",
   "execution_count": 2,
   "metadata": {},
   "outputs": [],
   "source": [
    "import pandas as pd\n",
    "import matplotlib.pyplot as plt\n",
    "import geemap"
   ]
  },
  {
   "cell_type": "code",
   "execution_count": 7,
   "metadata": {},
   "outputs": [
    {
     "name": "stdout",
     "output_type": "stream",
     "text": [
      "       NDVI  year\n",
      "0  0.574222  2015\n",
      "1  0.441514  2016\n",
      "2  0.542940  2017\n",
      "3  0.511688  2018\n",
      "4  0.621089  2019\n",
      "5  0.597651  2020\n",
      "6  0.582021  2021\n",
      "        EVI  year\n",
      "0  1.761912  2015\n",
      "1  2.868358  2016\n",
      "2  2.179249  2017\n",
      "3  2.206762  2018\n",
      "4  1.781416  2019\n",
      "5  1.971618  2020\n",
      "6  2.700256  2021\n"
     ]
    }
   ],
   "source": [
    "l8 = ee.ImageCollection(\"LANDSAT/LC08/C01/T1_SR\")\n",
    "geometry = ee.Geometry.Polygon([[[-51.59926298236183,-0.3129106811885803],\n",
    "                                 [-50.77528837298683,-0.3129106811885803],\n",
    "                                 [-50.77528837298683,0.4835908106175574],\n",
    "                                 [-51.59926298236183,0.4835908106175574],\n",
    "                                 [-51.59926298236183,-0.3129106811885803]]])\n",
    "\n",
    "#Filtering date, polygon, and cloudiness\n",
    "images = (l8.filterDate('2015-09-01', '2022-01-01')\n",
    "          .filterBounds(geometry)\n",
    "          .filter('CLOUD_COVER < 30'))\n",
    "\n",
    "#NDVI calculation:\n",
    "def ndvi_func(i):\n",
    "    ndvi = i.normalizedDifference (['B5', 'B4']).rename('NDVI')\n",
    "    return i.addBands(ndvi)\n",
    "\n",
    "images_ndvi = images.map(ndvi_func)\n",
    "\n",
    "#EVI calculation:\n",
    "def evi_func(i):\n",
    "    EVI = i.expression('2.5 * ((NIR - RED) / (NIR + 6 * RED - 7.5 * BLUE + 1))', {\n",
    "        'NIR' : i.select('B5'),\n",
    "        'RED' : i.select('B4'),\n",
    "        'BLUE': i.select('B2')}).rename('EVI')\n",
    "    \n",
    "    return i.addBands(EVI)\n",
    "    \n",
    "images_evi = images.map(evi_func)\n",
    "\n",
    "#Calculating year wise NDVI.  Result is a list of dictionaries.\n",
    "years = ee.List.sequence(2015,2021)\n",
    "def year_func_NDVI(y):\n",
    "    range = ee.Filter.calendarRange (y, y, 'year')\n",
    "    mean_ndvi = (images_ndvi\n",
    "            .filter(range)\n",
    "            .select('NDVI')\n",
    "            .median()\n",
    "            .reduceRegion(ee.Reducer.median(), geometry, 30))\n",
    "    \n",
    "    return mean_ndvi.set('year', y)\n",
    "    \n",
    "def year_func_EVI (z):\n",
    "    range = ee.Filter.calendarRange (z, z, 'year')\n",
    "    mean_evi = (images_evi\n",
    "               .filter(range)\n",
    "               .select('EVI')\n",
    "               .median()\n",
    "               .reduceRegion(ee.Reducer.median(),geometry,30))\n",
    "    \n",
    " \n",
    "    return mean_evi.set('year',z)\n",
    "    \n",
    "yearwise_NDVI = years.map(year_func_NDVI).getInfo()\n",
    "yearwise_EVI = years.map(year_func_EVI).getInfo()\n",
    "df_NDVI = pd.DataFrame(yearwise_NDVI)\n",
    "df_EVI = pd.DataFrame(yearwise_EVI)\n",
    "print(df_NDVI)\n",
    "print(df_EVI)"
   ]
  },
  {
   "cell_type": "code",
   "execution_count": 8,
   "metadata": {},
   "outputs": [
    {
     "data": {
      "image/png": "[encoded data removed]",
      "text/plain": [
       "<Figure size 432x288 with 1 Axes>"
      ]
     },
     "metadata": {
      "needs_background": "light"
     },
     "output_type": "display_data"
    }
   ],
   "source": [
    "# Plot graphs\n",
    "\n",
    "plt.plot(df_NDVI.year,df_NDVI.NDVI)\n",
    "plt.plot(df_EVI.year,df_EVI.EVI)\n",
    "plt.title('title')\n",
    "plt.ylabel('')\n",
    "plt.xlabel('Time [yrs]')\n",
    "plt.show()"
   ]
  },
  {
   "cell_type": "code",
   "execution_count": 9,
   "metadata": {},
   "outputs": [
    {
     "data": {
      "application/vnd.jupyter.widget-view+json": {
       "model_id": "ddbf4e6a75fb48a38c381532f580c5c6",
       "version_major": 2,
       "version_minor": 0
      },
      "text/plain": [
       "Map(center=[0.08534089636841959, -51.187275677674215], controls=(WidgetControl(options=['position', 'transpare…"
      ]
     },
     "metadata": {},
     "output_type": "display_data"
    }
   ],
   "source": [
    "## Add map\n",
    "Map = geemap.Map()\n",
    "\n",
    "vis_params = {\n",
    "    'min': 0,\n",
    "    'max': 1,\n",
    "    'palette': ['red', 'yellow','green'],\n",
    "}\n",
    "\n",
    "first_image = images_ndvi.select('NDVI').first()\n",
    "\n",
    "Map.addLayer(first_image, vis_params, \"First image\")\n",
    "Map.centerObject(geometry,8)\n",
    "\n",
    "Map"
   ]
  },
  {
   "cell_type": "code",
   "execution_count": 13,
   "metadata": {},
   "outputs": [
    {
     "data": {
      "application/vnd.jupyter.widget-view+json": {
       "model_id": "20ab62cedee84a78ab9a8399e6a0ab3a",
       "version_major": 2,
       "version_minor": 0
      },
      "text/plain": [
       "Map(center=[0.08534089636841959, -51.187275677674215], controls=(WidgetControl(options=['position', 'transpare…"
      ]
     },
     "metadata": {},
     "output_type": "display_data"
    }
   ],
   "source": [
    "### Different yearly maps\n",
    "## 2015 NDVI\n",
    "ndvi_2015 = images_ndvi.filterDate('2015-01-01', '2016-01-01').select('NDVI').median()\n",
    "\n",
    "## 2016 NDVI\n",
    "ndvi_2016 = images_ndvi.filterDate('2016-01-01', '2017-01-01').select('NDVI').median()\n",
    "\n",
    "## 2017 NDVI\n",
    "ndvi_2017 = images_ndvi.filterDate('2017-01-01', '2018-01-01').select('NDVI').median()\n",
    "\n",
    "## 2018 NDVI\n",
    "ndvi_2018 = images_ndvi.filterDate('2018-01-01', '2019-01-01').select('NDVI').median()\n",
    "\n",
    "## 2019 NDVI\n",
    "ndvi_2019 = images_ndvi.filterDate('2019-01-01', '2020-01-01').select('NDVI').median()\n",
    "\n",
    "## 2020 NDVI\n",
    "ndvi_2020 = images_ndvi.filterDate('2020-01-01', '2021-01-01').select('NDVI').median()\n",
    "\n",
    "## 2021 NDVI\n",
    "ndvi_2021 = images_ndvi.filterDate('2021-01-01', '2022-01-01').select('NDVI').median()\n",
    "\n",
    "Map = geemap.Map()\n",
    "\n",
    "vis_params = {\n",
    "    'min': 0,\n",
    "    'max': 1,\n",
    "    'palette': ['red', 'yellow','green'],\n",
    "}                       \n",
    "    \n",
    "Map.addLayer(ndvi_2015, vis_params, \"2015 NDVI\")\n",
    "Map.addLayer(ndvi_2016, vis_params, \"2016 NDVI\")\n",
    "Map.addLayer(ndvi_2017, vis_params, \"2017 NDVI\")\n",
    "Map.addLayer(ndvi_2018, vis_params, \"2018 NDVI\")\n",
    "Map.addLayer(ndvi_2019, vis_params, \"2019 NDVI\")\n",
    "Map.addLayer(ndvi_2020, vis_params, \"2020 NDVI\")\n",
    "Map.addLayer(ndvi_2021, vis_params, \"2021 NDVI\")\n",
    "Map.centerObject(geometry,8)\n",
    "\n",
    "Map\n",
    "\n"
   ]
  }
 ],
 "metadata": {
  "kernelspec": {
   "display_name": "Python 3",
   "language": "python",
   "name": "python3"
  },
  "language_info": {
   "codemirror_mode": {
    "name": "ipython",
    "version": 3
   },
   "file_extension": ".py",
   "mimetype": "text/x-python",
   "name": "python",
   "nbconvert_exporter": "python",
   "pygments_lexer": "ipython3",
   "version": "3.9.1"
  }
 },
 "nbformat": 4,
 "nbformat_minor": 4
}
