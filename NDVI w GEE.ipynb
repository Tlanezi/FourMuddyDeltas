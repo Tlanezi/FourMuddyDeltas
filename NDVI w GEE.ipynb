{
 "cells": [
  {
   "cell_type": "code",
   "execution_count": 1,
   "metadata": {},
   "outputs": [
    {
     "data": {
      "text/html": [
       "<p>To authorize access needed by Earth Engine, open the following\n",
       "        URL in a web browser and follow the instructions:</p>\n",
<<<<<<< HEAD
       "        <p><a href=https://code.earthengine.google.com/client-auth?scopes=https%3A//www.googleapis.com/auth/earthengine%20https%3A//www.googleapis.com/auth/devstorage.full_control&request_id=z3CLLWxyRjWvJOpMZHFfeYX0SST3EXQEEdTggIEGgsU&tc=7UcTDJlQeWyw1HWGC2nQwkY0GcxREaqNXwdvkWpn9Cw&cc=B4z4XtPWNAS7DmBU956S67UpGqowqd3DbAcUh3CDcvs>https://code.earthengine.google.com/client-auth?scopes=https%3A//www.googleapis.com/auth/earthengine%20https%3A//www.googleapis.com/auth/devstorage.full_control&request_id=z3CLLWxyRjWvJOpMZHFfeYX0SST3EXQEEdTggIEGgsU&tc=7UcTDJlQeWyw1HWGC2nQwkY0GcxREaqNXwdvkWpn9Cw&cc=B4z4XtPWNAS7DmBU956S67UpGqowqd3DbAcUh3CDcvs</a></p>\n",
=======
       "        <p><a href=https://accounts.google.com/o/oauth2/auth?client_id=517222506229-vsmmajv00ul0bs7p89v5m89qs8eb9359.apps.googleusercontent.com&scope=https%3A%2F%2Fwww.googleapis.com%2Fauth%2Fearthengine+https%3A%2F%2Fwww.googleapis.com%2Fauth%2Fdevstorage.full_control&redirect_uri=urn%3Aietf%3Awg%3Aoauth%3A2.0%3Aoob&response_type=code&code_challenge=jcSkfV4ArNon2n1IWvLBmrbxUyUvU_vhGxPhV8kx-l4&code_challenge_method=S256>https://accounts.google.com/o/oauth2/auth?client_id=517222506229-vsmmajv00ul0bs7p89v5m89qs8eb9359.apps.googleusercontent.com&scope=https%3A%2F%2Fwww.googleapis.com%2Fauth%2Fearthengine+https%3A%2F%2Fwww.googleapis.com%2Fauth%2Fdevstorage.full_control&redirect_uri=urn%3Aietf%3Awg%3Aoauth%3A2.0%3Aoob&response_type=code&code_challenge=jcSkfV4ArNon2n1IWvLBmrbxUyUvU_vhGxPhV8kx-l4&code_challenge_method=S256</a></p>\n",
>>>>>>> e84e4bcf630a691b0e2f23dadedb956dde32b2ef
       "        <p>The authorization workflow will generate a code, which you\n",
       "        should paste in the box below</p>\n",
       "        "
      ],
      "text/plain": [
       "<IPython.core.display.HTML object>"
      ]
     },
     "metadata": {},
     "output_type": "display_data"
    },
    {
     "name": "stdout",
     "output_type": "stream",
     "text": [
<<<<<<< HEAD
      "Enter verification code: 4/1AX4XfWjFLGrCVnA7OluPy0wjfdSf81t4YUbZVT0NSnajgogfIKK10vld54c\n",
=======
      "Enter verification code: 4/1AX4XfWhIUzQ3Ipd3xVtvwKBaZ_7Jmkrhzo-yI-2vg5uMSPlNjI8l2q1PA1E\n",
>>>>>>> e84e4bcf630a691b0e2f23dadedb956dde32b2ef
      "\n",
      "Successfully saved authorization token.\n"
     ]
    }
   ],
   "source": [
    "## Import and authenticate\n",
    "import ee\n",
    "ee.Authenticate()\n",
    "ee.Initialize()"
   ]
  },
  {
   "cell_type": "code",
<<<<<<< HEAD
   "execution_count": 7,
=======
   "execution_count": 2,
>>>>>>> e84e4bcf630a691b0e2f23dadedb956dde32b2ef
   "metadata": {},
   "outputs": [],
   "source": [
    "import pandas as pd\n",
    "import matplotlib.pyplot as plt\n",
    "import geemap"
   ]
  },
  {
   "cell_type": "code",
<<<<<<< HEAD
   "execution_count": 8,
=======
   "execution_count": 7,
>>>>>>> e84e4bcf630a691b0e2f23dadedb956dde32b2ef
   "metadata": {},
   "outputs": [
    {
     "name": "stdout",
     "output_type": "stream",
     "text": [
      "       NDVI  year\n",
      "0  0.574222  2015\n",
      "1  0.441514  2016\n",
      "2  0.542940  2017\n",
      "3  0.511688  2018\n",
      "4  0.621089  2019\n",
      "5  0.597651  2020\n",
      "6  0.582021  2021\n",
      "        EVI  year\n",
      "0  1.761912  2015\n",
      "1  2.868358  2016\n",
      "2  2.179249  2017\n",
      "3  2.206762  2018\n",
      "4  1.781416  2019\n",
      "5  1.971618  2020\n",
      "6  2.700256  2021\n"
     ]
    }
   ],
   "source": [
    "l8 = ee.ImageCollection(\"LANDSAT/LC08/C01/T1_SR\")\n",
    "geometry = ee.Geometry.Polygon([[[-51.59926298236183,-0.3129106811885803],\n",
    "                                 [-50.77528837298683,-0.3129106811885803],\n",
    "                                 [-50.77528837298683,0.4835908106175574],\n",
    "                                 [-51.59926298236183,0.4835908106175574],\n",
    "                                 [-51.59926298236183,-0.3129106811885803]]])\n",
    "\n",
    "#Filtering date, polygon, and cloudiness\n",
    "images = (l8.filterDate('2015-09-01', '2022-01-01')\n",
    "          .filterBounds(geometry)\n",
    "          .filter('CLOUD_COVER < 30'))\n",
    "\n",
    "#NDVI calculation:\n",
    "def ndvi_func(i):\n",
    "    ndvi = i.normalizedDifference (['B5', 'B4']).rename('NDVI')\n",
    "    return i.addBands(ndvi)\n",
    "\n",
    "images_ndvi = images.map(ndvi_func)\n",
    "\n",
    "#EVI calculation:\n",
    "def evi_func(i):\n",
    "    EVI = i.expression('2.5 * ((NIR - RED) / (NIR + 6 * RED - 7.5 * BLUE + 1))', {\n",
    "        'NIR' : i.select('B5'),\n",
    "        'RED' : i.select('B4'),\n",
    "        'BLUE': i.select('B2')}).rename('EVI')\n",
    "    \n",
    "    return i.addBands(EVI)\n",
    "    \n",
    "images_evi = images.map(evi_func)\n",
    "\n",
    "#Calculating year wise NDVI.  Result is a list of dictionaries.\n",
    "years = ee.List.sequence(2015,2021)\n",
    "def year_func_NDVI(y):\n",
    "    range = ee.Filter.calendarRange (y, y, 'year')\n",
    "    mean_ndvi = (images_ndvi\n",
    "            .filter(range)\n",
    "            .select('NDVI')\n",
    "            .median()\n",
    "            .reduceRegion(ee.Reducer.median(), geometry, 30))\n",
    "    \n",
    "    return mean_ndvi.set('year', y)\n",
    "    \n",
    "def year_func_EVI (z):\n",
    "    range = ee.Filter.calendarRange (z, z, 'year')\n",
    "    mean_evi = (images_evi\n",
    "               .filter(range)\n",
    "               .select('EVI')\n",
    "               .median()\n",
    "               .reduceRegion(ee.Reducer.median(),geometry,30))\n",
    "    \n",
    " \n",
    "    return mean_evi.set('year',z)\n",
    "    \n",
    "yearwise_NDVI = years.map(year_func_NDVI).getInfo()\n",
    "yearwise_EVI = years.map(year_func_EVI).getInfo()\n",
    "df_NDVI = pd.DataFrame(yearwise_NDVI)\n",
    "df_EVI = pd.DataFrame(yearwise_EVI)\n",
    "print(df_NDVI)\n",
    "print(df_EVI)"
   ]
  },
  {
   "cell_type": "code",
<<<<<<< HEAD
   "execution_count": 9,
=======
   "execution_count": 8,
>>>>>>> e84e4bcf630a691b0e2f23dadedb956dde32b2ef
   "metadata": {},
   "outputs": [
    {
     "data": {
<<<<<<< HEAD
      "image/png": "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\n",
=======
      "image/png": "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\n",
>>>>>>> e84e4bcf630a691b0e2f23dadedb956dde32b2ef
      "text/plain": [
       "<Figure size 432x288 with 1 Axes>"
      ]
     },
     "metadata": {
      "needs_background": "light"
     },
     "output_type": "display_data"
    }
   ],
   "source": [
    "# Plot graphs\n",
    "\n",
    "plt.plot(df_NDVI.year,df_NDVI.NDVI)\n",
    "plt.plot(df_EVI.year,df_EVI.EVI)\n",
    "plt.title('title')\n",
    "plt.ylabel('')\n",
    "plt.xlabel('Time [yrs]')\n",
    "plt.show()"
   ]
  },
  {
   "cell_type": "code",
<<<<<<< HEAD
   "execution_count": 10,
=======
   "execution_count": 9,
>>>>>>> e84e4bcf630a691b0e2f23dadedb956dde32b2ef
   "metadata": {},
   "outputs": [
    {
     "data": {
      "application/vnd.jupyter.widget-view+json": {
<<<<<<< HEAD
       "model_id": "1db83accbd854e81846534ef7103f5ab",
=======
       "model_id": "ddbf4e6a75fb48a38c381532f580c5c6",
>>>>>>> e84e4bcf630a691b0e2f23dadedb956dde32b2ef
       "version_major": 2,
       "version_minor": 0
      },
      "text/plain": [
       "Map(center=[0.08534089636841959, -51.187275677674215], controls=(WidgetControl(options=['position', 'transpare…"
      ]
     },
     "metadata": {},
     "output_type": "display_data"
    }
   ],
   "source": [
    "## Add map\n",
    "Map = geemap.Map()\n",
    "\n",
    "vis_params = {\n",
    "    'min': 0,\n",
    "    'max': 1,\n",
    "    'palette': ['red', 'yellow','green'],\n",
    "}\n",
    "\n",
    "first_image = images_ndvi.select('NDVI').first()\n",
    "\n",
    "Map.addLayer(first_image, vis_params, \"First image\")\n",
    "Map.centerObject(geometry,8)\n",
    "\n",
    "Map"
   ]
  },
  {
   "cell_type": "code",
<<<<<<< HEAD
   "execution_count": 11,
=======
   "execution_count": 13,
>>>>>>> e84e4bcf630a691b0e2f23dadedb956dde32b2ef
   "metadata": {},
   "outputs": [
    {
     "data": {
      "application/vnd.jupyter.widget-view+json": {
<<<<<<< HEAD
       "model_id": "8fc3b1b9d5064abfae2d2d83edc8eb86",
=======
       "model_id": "20ab62cedee84a78ab9a8399e6a0ab3a",
>>>>>>> e84e4bcf630a691b0e2f23dadedb956dde32b2ef
       "version_major": 2,
       "version_minor": 0
      },
      "text/plain": [
       "Map(center=[0.08534089636841959, -51.187275677674215], controls=(WidgetControl(options=['position', 'transpare…"
      ]
     },
     "metadata": {},
     "output_type": "display_data"
    }
   ],
   "source": [
    "### Different yearly maps\n",
    "## 2015 NDVI\n",
    "ndvi_2015 = images_ndvi.filterDate('2015-01-01', '2016-01-01').select('NDVI').median()\n",
    "\n",
    "## 2016 NDVI\n",
    "ndvi_2016 = images_ndvi.filterDate('2016-01-01', '2017-01-01').select('NDVI').median()\n",
    "\n",
    "## 2017 NDVI\n",
    "ndvi_2017 = images_ndvi.filterDate('2017-01-01', '2018-01-01').select('NDVI').median()\n",
    "\n",
    "## 2018 NDVI\n",
    "ndvi_2018 = images_ndvi.filterDate('2018-01-01', '2019-01-01').select('NDVI').median()\n",
    "\n",
    "## 2019 NDVI\n",
    "ndvi_2019 = images_ndvi.filterDate('2019-01-01', '2020-01-01').select('NDVI').median()\n",
    "\n",
    "## 2020 NDVI\n",
    "ndvi_2020 = images_ndvi.filterDate('2020-01-01', '2021-01-01').select('NDVI').median()\n",
    "\n",
    "## 2021 NDVI\n",
    "ndvi_2021 = images_ndvi.filterDate('2021-01-01', '2022-01-01').select('NDVI').median()\n",
    "\n",
    "Map = geemap.Map()\n",
    "\n",
    "vis_params = {\n",
    "    'min': 0,\n",
    "    'max': 1,\n",
    "    'palette': ['red', 'yellow','green'],\n",
    "}                       \n",
    "    \n",
    "Map.addLayer(ndvi_2015, vis_params, \"2015 NDVI\")\n",
    "Map.addLayer(ndvi_2016, vis_params, \"2016 NDVI\")\n",
    "Map.addLayer(ndvi_2017, vis_params, \"2017 NDVI\")\n",
    "Map.addLayer(ndvi_2018, vis_params, \"2018 NDVI\")\n",
    "Map.addLayer(ndvi_2019, vis_params, \"2019 NDVI\")\n",
    "Map.addLayer(ndvi_2020, vis_params, \"2020 NDVI\")\n",
    "Map.addLayer(ndvi_2021, vis_params, \"2021 NDVI\")\n",
    "Map.centerObject(geometry,8)\n",
    "\n",
    "Map\n",
    "\n"
   ]
  },
  {
   "cell_type": "code",
   "execution_count": 12,
   "metadata": {},
   "outputs": [
    {
     "data": {
      "application/vnd.jupyter.widget-view+json": {
       "model_id": "1756de0c4cb64da9800f438711737985",
       "version_major": 2,
       "version_minor": 0
      },
      "text/plain": [
       "Map(center=[20, 0], controls=(WidgetControl(options=['position', 'transparent_bg'], widget=HBox(children=(Togg…"
      ]
     },
     "metadata": {},
     "output_type": "display_data"
    }
   ],
   "source": [
    "Map = geemap.Map()\n",
    "dataset = ee.ImageCollection(\"ESA/WorldCover/v100\").first()\n",
    "Map.addLayer(dataset, {'bands': ['Map']}, 'ESA Land Cover')\n",
    "Map.add_legend(builtin_legend='ESA_WorldCover')\n",
    "Map"
   ]
  },
  {
   "cell_type": "code",
   "execution_count": 13,
   "metadata": {},
   "outputs": [
    {
     "name": "stdout",
     "output_type": "stream",
     "text": [
      "Calculating area for group 10 ...\n",
      "Calculating area for group 100 ...\n",
      "Calculating area for group 20 ...\n",
      "Calculating area for group 30 ...\n",
      "Calculating area for group 40 ...\n",
      "Calculating area for group 50 ...\n",
      "Calculating area for group 60 ...\n",
      "Calculating area for group 70 ...\n",
      "Calculating area for group 80 ...\n",
      "Calculating area for group 90 ...\n",
      "Calculating area for group 95 ...\n"
     ]
    },
    {
     "data": {
      "text/html": [
       "<div>\n",
       "<style scoped>\n",
       "    .dataframe tbody tr th:only-of-type {\n",
       "        vertical-align: middle;\n",
       "    }\n",
       "\n",
       "    .dataframe tbody tr th {\n",
       "        vertical-align: top;\n",
       "    }\n",
       "\n",
       "    .dataframe thead th {\n",
       "        text-align: right;\n",
       "    }\n",
       "</style>\n",
       "<table border=\"1\" class=\"dataframe\">\n",
       "  <thead>\n",
       "    <tr style=\"text-align: right;\">\n",
       "      <th></th>\n",
       "      <th>area</th>\n",
       "      <th>percentage</th>\n",
       "    </tr>\n",
       "    <tr>\n",
       "      <th>group</th>\n",
       "      <th></th>\n",
       "      <th></th>\n",
       "    </tr>\n",
       "  </thead>\n",
       "  <tbody>\n",
       "    <tr>\n",
       "      <th>10</th>\n",
       "      <td>4.420003e+07</td>\n",
       "      <td>0.2901</td>\n",
       "    </tr>\n",
       "    <tr>\n",
       "      <th>100</th>\n",
       "      <td>2.964988e+06</td>\n",
       "      <td>0.0195</td>\n",
       "    </tr>\n",
       "    <tr>\n",
       "      <th>20</th>\n",
       "      <td>1.078775e+07</td>\n",
       "      <td>0.0708</td>\n",
       "    </tr>\n",
       "    <tr>\n",
       "      <th>30</th>\n",
       "      <td>3.200165e+07</td>\n",
       "      <td>0.2100</td>\n",
       "    </tr>\n",
       "    <tr>\n",
       "      <th>40</th>\n",
       "      <td>1.317507e+07</td>\n",
       "      <td>0.0865</td>\n",
       "    </tr>\n",
       "    <tr>\n",
       "      <th>50</th>\n",
       "      <td>6.837829e+05</td>\n",
       "      <td>0.0045</td>\n",
       "    </tr>\n",
       "    <tr>\n",
       "      <th>60</th>\n",
       "      <td>2.288831e+07</td>\n",
       "      <td>0.1502</td>\n",
       "    </tr>\n",
       "    <tr>\n",
       "      <th>70</th>\n",
       "      <td>2.395389e+06</td>\n",
       "      <td>0.0157</td>\n",
       "    </tr>\n",
       "    <tr>\n",
       "      <th>80</th>\n",
       "      <td>2.103490e+07</td>\n",
       "      <td>0.1381</td>\n",
       "    </tr>\n",
       "    <tr>\n",
       "      <th>90</th>\n",
       "      <td>2.044810e+06</td>\n",
       "      <td>0.0134</td>\n",
       "    </tr>\n",
       "    <tr>\n",
       "      <th>95</th>\n",
       "      <td>1.880085e+05</td>\n",
       "      <td>0.0012</td>\n",
       "    </tr>\n",
       "  </tbody>\n",
       "</table>\n",
       "</div>"
      ],
      "text/plain": [
       "               area  percentage\n",
       "group                          \n",
       "10     4.420003e+07      0.2901\n",
       "100    2.964988e+06      0.0195\n",
       "20     1.078775e+07      0.0708\n",
       "30     3.200165e+07      0.2100\n",
       "40     1.317507e+07      0.0865\n",
       "50     6.837829e+05      0.0045\n",
       "60     2.288831e+07      0.1502\n",
       "70     2.395389e+06      0.0157\n",
       "80     2.103490e+07      0.1381\n",
       "90     2.044810e+06      0.0134\n",
       "95     1.880085e+05      0.0012"
      ]
     },
     "execution_count": 13,
     "metadata": {},
     "output_type": "execute_result"
    }
   ],
   "source": [
    "df = geemap.image_area_by_group(\n",
    "    dataset, scale=1000, denominator=1e6, decimal_places=4, verbose=True\n",
    ")\n",
    "df"
   ]
  }
 ],
 "metadata": {
  "kernelspec": {
   "display_name": "Python 3 (ipykernel)",
   "language": "python",
   "name": "python3"
  },
  "language_info": {
   "codemirror_mode": {
    "name": "ipython",
    "version": 3
   },
   "file_extension": ".py",
   "mimetype": "text/x-python",
   "name": "python",
   "nbconvert_exporter": "python",
   "pygments_lexer": "ipython3",
   "version": "3.9.5"
  }
 },
 "nbformat": 4,
 "nbformat_minor": 4
}
